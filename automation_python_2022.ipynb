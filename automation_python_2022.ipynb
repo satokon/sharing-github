{
 "cells": [
  {
   "cell_type": "markdown",
   "metadata": {},
   "source": [
    "# Style Guides\n",
    "\n",
    "- Programming languages have style guides that ensure your code is readable, usable, and debugable by others\n",
    "- There are many tools that parse your code to help with debugging, generating documentation, ect. that rely on standards\n",
    "- In Python, there is a quasi-official style guide, PEP8, that is followed by most python developers\n",
    "    - PEP8: https://www.python.org/dev/peps/pep-0008/\n",
    "- Other languages, such as R, have their own style guides\n",
    "    - Tidyverse: https://style.tidyverse.org/\n",
    "  "
   ]
  },
  {
   "cell_type": "markdown",
   "metadata": {},
   "source": [
    "## A subset of PEP8\n",
    "- We are not going to go through all of PEP8 (or the rest of the many PEPs)\n",
    "- However, we can start with a subset of conventions that are common across different languages"
   ]
  },
  {
   "cell_type": "markdown",
   "metadata": {},
   "source": [
    "## Naming Conventions\n",
    "\n",
    "There are many common conventions. These conventions are not python-specific and you will see them in code across languages. Here are some examples:\n",
    "\n",
    "1. **snake_case**: All words are lower case with underscores between them\n",
    "2. **CamelCase**: Words start with capital letters and are not separated\n",
    "3. **mixedCase**: Like CamelCase but the first word is lowercase\n",
    "4. **UPPERCASE_WITH_UNDERSCORES**: All letters are uppercase, separated by underscores \n",
    "\n",
    "Python's style guide outlines rules for using naming conventions:\n",
    "\n",
    "1. Variables: **snake_case**\n",
    "    - variable_name, dna_sequence\n",
    "2. Functions: **snake_case**\n",
    "    - combine_replicates()\n",
    "3. Errors: **CamelCase**\n",
    "    - ValueError, SyntaxError\n",
    "\n",
    "There are more guidelines, but these are common ones that are encountered early on."
   ]
  },
  {
   "cell_type": "markdown",
   "metadata": {},
   "source": [
    "## Exercise 1: Using naming conventions\n",
    "\n",
    "Edit the code block below to conform to PEP8 naming conventions. Post in the collaborative document your answers."
   ]
  },
  {
   "cell_type": "code",
   "execution_count": null,
   "metadata": {},
   "outputs": [],
   "source": [
    "def Velocity(TOTALDISTANCE, time):\n",
    "    \"This calculates the distance over time\"\n",
    "    Velocity_Result = TOTALDISTANCE / time\n",
    "    return(Velocity_Result)\n",
    "Velocity(10, 2)"
   ]
  },
  {
   "cell_type": "markdown",
   "metadata": {},
   "source": [
    "## Dangers in variable naming\n",
    "\n",
    "Aside from making names look professional, there are some rules about naming to help prevent errors and bugs. Specifically, you should never name something the same as a function included in python. \n",
    "\n",
    "Let's use the function sum() to see what happens of we use sum as a variable name"
   ]
  },
  {
   "cell_type": "code",
   "execution_count": null,
   "metadata": {},
   "outputs": [],
   "source": [
    "sum_of_two_numbers = sum([5, 4])\n",
    "print(\"Sum data type\", type(sum))\n",
    "sum = 10 + 5\n",
    "print(\"Sum data type\", type(sum))\n",
    "print(sum_of_two_numbers)\n",
    "print(sum)"
   ]
  },
  {
   "cell_type": "markdown",
   "metadata": {},
   "source": [
    "Let's try calling the sum() function again."
   ]
  },
  {
   "cell_type": "code",
   "execution_count": null,
   "metadata": {},
   "outputs": [],
   "source": [
    "sum([5, 4])"
   ]
  },
  {
   "cell_type": "markdown",
   "metadata": {},
   "source": [
    "## Comments\n",
    "\n",
    "One documentation ability that should be reiterated is the use of comments. Comments are denoted using `#` where everything written after it on the same line is not run. This means we can use it to help ourselves when looking back at our code and others understand what we are trying to do. "
   ]
  },
  {
   "cell_type": "code",
   "execution_count": null,
   "metadata": {},
   "outputs": [],
   "source": [
    "def my_function(x):\n",
    "    \"Docstring for my_function\"\n",
    "    # This is a comment.\n",
    "    # print(x + x)\n",
    "    # The print function above will not run due to the '#'\n",
    "    print(x)\n",
    "\n",
    "my_function(1)"
   ]
  },
  {
   "cell_type": "markdown",
   "metadata": {},
   "source": [
    "You should write comments for your code often, specifically when you are doing a task that is specialized like using a formula or applying a custom function to do a task. Some good advice from PEP8:\n",
    "\n",
    ">Comments that contradict the code are worse than no comments. Always make a priority of keeping the comments up-to-date when the code changes!\n"
   ]
  },
  {
   "cell_type": "markdown",
   "metadata": {},
   "source": [
    "## Docstrings\n",
    "\n",
    "We previously covered docstrings within functions as a string just after the def statement. However, what if you want to write **more than just a single line of documentation**? Fortunatly there is a way to do so by using **triple-quotes**.\n",
    "\n"
   ]
  },
  {
   "cell_type": "code",
   "execution_count": null,
   "metadata": {},
   "outputs": [],
   "source": [
    "# Example"
   ]
  },
  {
   "cell_type": "markdown",
   "metadata": {},
   "source": [
    "## PEP guidelines on docstrings\n",
    "\n",
    "Python PEP guidelines suggest the following format:\n",
    "\n",
    "\"\"\"One line description\n",
    "\n",
    "More details about your function, in triple-quotes\n",
    "\n",
    "\"\"\"\n",
    "\n",
    "**or**\n",
    "\n",
    "\"\"\"Only a single line description in triple-quotes\"\"\""
   ]
  },
  {
   "cell_type": "markdown",
   "metadata": {},
   "source": [
    "## ... are supplemented by community formats\n",
    "\n",
    "Docstrings are pretty flexible, even using PEP standards. There are a couple common format guidelines for docstrings that you can choose from. Why start with these?\n",
    "\n",
    "1. It gives a good overview of what information people expect in your docstrings\n",
    "2. The formats here can be parsed by common tools\n",
    "\n",
    "While the formats for documentation may differ slightly depending on the language choice, the information expected from them is fundamental. "
   ]
  },
  {
   "cell_type": "code",
   "execution_count": null,
   "metadata": {},
   "outputs": [],
   "source": [
    "# Google format\n",
    "\"\"\"Takes a string and returns a list of letters\n",
    "\n",
    "Args:\n",
    "    string (list): A string to parse for letters\n",
    "    upper (bool): The letters are returned uppercase \n",
    "        (default is False)\n",
    "\n",
    "Returns:\n",
    "    list: A list of each letter in the string\n",
    "\"\"\"\n",
    "\n",
    "#Numpy format\n",
    "\"\"\"Takes a string and returns a list of letters\n",
    "\n",
    "Parameters\n",
    "----------\n",
    "string : str\n",
    "    A string to parse for letters\n",
    "upper : bool, optional\n",
    "    The letters are returned uppercase  (default is False)\n",
    "\n",
    "Returns\n",
    "-------\n",
    "list\n",
    "    A list of each letter in the string\n",
    "\"\"\"\n",
    "\n",
    "#reStrucured text \n",
    "\"\"\"Takes a string and returns a list of letters\n",
    "\n",
    ":param string: A string to parse for letters\n",
    ":type string: str\n",
    ":param upper: A string used to join each string (default is False)\n",
    ":type upper: bool\n",
    ":returns: A list of each letter in the string\n",
    ":rtype: list\n",
    "\"\"\"\n"
   ]
  },
  {
   "cell_type": "markdown",
   "metadata": {},
   "source": [
    "## Exercise 2.1: Importance of naming and documentation\n",
    "\n",
    "Given the following function with poor naming and no documentation, determine:\n",
    "1. What are the 2 inputs\n",
    "2. What does it return"
   ]
  },
  {
   "cell_type": "code",
   "execution_count": null,
   "metadata": {},
   "outputs": [],
   "source": [
    "def FUNCTION(number, words):\n",
    "    Smallest = 0\n",
    "    for dictionary in number:\n",
    "        LETTER = (dictionary / words) * 100\n",
    "        if LETTER > Smallest:\n",
    "            Smallest = LETTER\n",
    "    return Smallest"
   ]
  },
  {
   "cell_type": "markdown",
   "metadata": {},
   "source": [
    "## Exercise 2.2: Refactoring a Function\n",
    "\n",
    "**Refactoring** is a term that means re-writing code without changing the task it performs. \n",
    "\n",
    "Refactor the following function with poor naming and no documentation. You will want to:\n",
    "\n",
    "1. Rename variables to an appropriate name\n",
    "2. Write a docstring explaining what the function does using one of the example formats (Google, Numpy, reStructured)\n",
    "\n",
    "Test your function by running it after you refactor to see if it still produces the same output."
   ]
  },
  {
   "cell_type": "code",
   "execution_count": null,
   "metadata": {},
   "outputs": [],
   "source": [
    "def FUNCTION(number, words):\n",
    "    Smallest = 0\n",
    "    for dictionary in number:\n",
    "        LETTER = (dictionary / words) * 100\n",
    "        if LETTER > Smallest:\n",
    "            Smallest = LETTER\n",
    "    return Smallest"
   ]
  },
  {
   "cell_type": "markdown",
   "metadata": {},
   "source": [
    "# D.R.Y. Don't Repeat Yourself\n",
    "\n",
    "DRY is a concept in programming to avoid writing redundant code. A good sign your code is redundant would be if you copy and past parts of it and edit the new copies. \n",
    "\n",
    "Suppose we had three lists of proteins and wanted to check if there are any matches to a list of proteins of interest and wrote the following code:"
   ]
  },
  {
   "cell_type": "code",
   "execution_count": null,
   "metadata": {},
   "outputs": [],
   "source": [
    "protein_data1 = [\"CREG1\", \"ELK1\", \"SF1\", \"GATA1\", \"GATA3\", \"CREB1\"]\n",
    "protein_data2 = [\"ATF1\", \"GATA1\", \"STAT3\", \"P53\", \"CREG1\"]\n",
    "protein_data3 = [\"RELA\", \"MYC\", \"SF1\", \"CREG1\", \"GATA3\", \"ELK1\"]\n",
    "proteins_of_interest = [\"ELK1\", \"MITF\", \"KAL1\", \"CREG1\"]\n",
    "\n",
    "# Are there any matches in the first list?\n",
    "match_list1 = []\n",
    "for protein in protein_data1:\n",
    "    if protein in proteins_of_interest:\n",
    "        match_list1.append(protein)\n",
    "\n",
    "# Are there any matches in the second?\n",
    "match_list2 = []\n",
    "for protein in protein_data2:\n",
    "    if protein in proteins_of_interest:\n",
    "        match_list2.append(protein)\n",
    "\n",
    "# Are there any matches in the third?\n",
    "match_list3 = []\n",
    "for protein in protein_data3:\n",
    "    if protein in proteins_of_interest:\n",
    "        match_list3.append(protein)"
   ]
  },
  {
   "cell_type": "markdown",
   "metadata": {},
   "source": [
    "We want to do an analysis on multiple datasets. But there are problems with this approach:\n",
    "\n",
    "1. You have to copy/paste for each list you want to compare\n",
    "2. If you make a change to the analysis, you need to edit every copy\n",
    "    - Very hard to remain consistant\n",
    "3. If you want to compare to another list, you need to either:\n",
    "    - Edit every copy\n",
    "    - Change the variable proteins_of_interest\n",
    "        - May affect your analysis somewhere else\n",
    "\n",
    "To prevent repeating code, we can write a function to do our repeated task. "
   ]
  },
  {
   "cell_type": "markdown",
   "metadata": {},
   "source": [
    "## Exercise: Refactor an Analysis Into a Function\n",
    "\n",
    "Write a function that does the repeated task and run it on the three lists.  "
   ]
  },
  {
   "cell_type": "code",
   "execution_count": null,
   "metadata": {},
   "outputs": [],
   "source": [
    "# Your function here\n",
    "\n"
   ]
  },
  {
   "cell_type": "markdown",
   "metadata": {},
   "source": [
    "## A Helpful Way To Format Strings\n",
    "\n",
    "In the next sections, we are going to work on custom error messages and defensive programming. Having a good way to format strings for these messages will make our job easier. Previously we concatinated strings using the `+` operator. \n",
    "\n",
    "Suppose we have an integer and we want to add it to a string."
   ]
  },
  {
   "cell_type": "code",
   "execution_count": null,
   "metadata": {},
   "outputs": [],
   "source": [
    "# Example\n",
    "my_int = 5\n",
    "message = \"This number does not work:\"\n",
    "message + my_int"
   ]
  },
  {
   "cell_type": "markdown",
   "metadata": {},
   "source": [
    "If we directly add a string and an integer, we get a `TypeError`. One way to neatly get around this is to use what is called an **f string**. This is a python-specific method that takes care of formating the string for us.  "
   ]
  },
  {
   "cell_type": "code",
   "execution_count": null,
   "metadata": {},
   "outputs": [],
   "source": [
    "# Example with f strings\n",
    "m = f\"This number does not work: {my_int}. The number is lower than 10.\"\n",
    "print(m)"
   ]
  },
  {
   "cell_type": "markdown",
   "metadata": {},
   "source": [
    "# Errors and Defensive Programming in Python\n",
    "\n",
    "One fundamental concept in programming is troubleshooting errors. When something goes wrong in Python, it can report a number of different kinds of errors. For example, look at the error message when the following code is run:"
   ]
  },
  {
   "cell_type": "code",
   "execution_count": null,
   "metadata": {},
   "outputs": [],
   "source": [
    "print(hello)"
   ]
  },
  {
   "cell_type": "markdown",
   "metadata": {},
   "source": [
    "Notice that in the command `print(hello)` when `hello` is not defined, Python returns something called a `NameError`. Python has many different types of errors built-in including:\n",
    "\n",
    "- NameError\n",
    "- ZeroDivisionError\n",
    "- TypeError\n",
    "- IndexError\n",
    "- ... and more!\n",
    "\n",
    "These errors are also referred to as **exceptions**. More information on the other exceptions built into Python are here: https://docs.python.org/3/library/exceptions.html \n",
    "\n",
    "We can also call an error on purpose using the `raise` keyword with a custom message. This message is part of the **Traceback**, which is a report python gives on what happened.  "
   ]
  },
  {
   "cell_type": "code",
   "execution_count": null,
   "metadata": {},
   "outputs": [],
   "source": [
    "#Example\n",
    "raise NameError(\"My custom error message\")"
   ]
  },
  {
   "cell_type": "markdown",
   "metadata": {},
   "source": [
    "Notice how for errors that we get without directly calling, both the class of `Error` and the message are predetermined. This is sometimes useful, but in some situations it might not be. Suppose you wrote a reverse comeplement function like the one below:"
   ]
  },
  {
   "cell_type": "code",
   "execution_count": null,
   "metadata": {},
   "outputs": [],
   "source": [
    "def reverse_complement(dna_sequence):\n",
    "    \"\"\"Reverses the complement of a dna sequence\"\"\"\n",
    "    complements = {\"T\":\"A\", \"A\":\"T\", \"C\":\"G\", \"G\":\"C\"}\n",
    "    reverse = dna_sequence[::-1]\n",
    "    result = \"\"\n",
    "    for letter in reverse:\n",
    "        result = result + complements[letter]\n",
    "    return(result)\n",
    "\n",
    "help(reverse_complement)\n",
    "print(reverse_complement(\"CAAT\"))"
   ]
  },
  {
   "cell_type": "markdown",
   "metadata": {},
   "source": [
    "Suppose someone imports our function from a script we wrote (we will do this later in the lesson). Maybe they will run our script with a sequence that contains lowercase letters (could be a masked genomic region?)"
   ]
  },
  {
   "cell_type": "code",
   "execution_count": null,
   "metadata": {},
   "outputs": [],
   "source": [
    "reverse_complement(\"CACGtgcatggTGAAA\")"
   ]
  },
  {
   "cell_type": "markdown",
   "metadata": {},
   "source": [
    "For a user, this is a really confusing error. It is supposed to return the reverse complement but it did not. They check the error and all it says is:\n",
    "\n",
    "\"KeyError: 'g'\""
   ]
  },
  {
   "cell_type": "markdown",
   "metadata": {},
   "source": [
    "## Try and Except Keywords\n",
    "\n",
    "One way we can tackle this is though `try` and `except`. What this does is tries code that is indented after `try`. If there is a particular error we think would happen, then we can write a user-defined response under `except`.\n",
    "\n"
   ]
  },
  {
   "cell_type": "code",
   "execution_count": null,
   "metadata": {},
   "outputs": [],
   "source": [
    "#Example\n",
    "\n",
    "try:\n",
    "    print(hello)\n",
    "except NameError:\n",
    "    print(\"A custom error message\")\n"
   ]
  },
  {
   "cell_type": "markdown",
   "metadata": {},
   "source": [
    "Note that the error here is handled under the except keyword, so the program actually keeps going. We can visualize this by adding a `print()` statement after"
   ]
  },
  {
   "cell_type": "code",
   "execution_count": null,
   "metadata": {},
   "outputs": [],
   "source": [
    "# Example with print() before and after\n",
    "print(\"Before\")\n",
    "try:\n",
    "    print(hello)\n",
    "except NameError:\n",
    "    print(\"A custom error message\")\n",
    "print(\"After\")"
   ]
  },
  {
   "cell_type": "markdown",
   "metadata": {},
   "source": [
    "If we want the program to stop, there are a couple ways to do so. A good way is to use the `raise` within the code run after except. This will print the custom message, then continue to do what it would do if we did not run try catch."
   ]
  },
  {
   "cell_type": "code",
   "execution_count": null,
   "metadata": {},
   "outputs": [],
   "source": [
    "# Example with raise added within the except code\n",
    "print(\"Before\")\n",
    "try:\n",
    "    print(hello)\n",
    "except NameError:\n",
    "    print(\"A custom error message\")\n",
    "    raise\n",
    "print(\"After\")"
   ]
  },
  {
   "cell_type": "markdown",
   "metadata": {},
   "source": [
    "Why do this?\n",
    "\n",
    "1. If our program is getting input that is causing an error, we want the program to **fail fast**. \n",
    "2. We want to **avoid** returning **incorrect** or **unexpected** results. "
   ]
  },
  {
   "cell_type": "markdown",
   "metadata": {},
   "source": [
    "## Printing Error Messages\n",
    "\n",
    "Before we use our new keywords, this would be a good time to go over output for errors. When we print something in Jupyter or in the command line, by default it goes to a destination called `stdout` or **standard output**. There is another destination seperate from `stdout` for errors and warnings called `stderr` or **standard error**. It is dangerous to print error messages in `stdout` because some workflows utilize it for data and the error messages can get mixed in. For example, when piping output in the command line. It is also just good practice to send errors to `stderr`. \n",
    "\n",
    "We can set a destination for out `print()` command using the **file** argument. By default it is **sys.stdout**. We will need to import the **sys** module to send to `stderr`. "
   ]
  },
  {
   "cell_type": "code",
   "execution_count": null,
   "metadata": {},
   "outputs": [],
   "source": [
    "# Help for print\n",
    "help(print)"
   ]
  },
  {
   "cell_type": "code",
   "execution_count": null,
   "metadata": {},
   "outputs": [],
   "source": [
    "# Import sys, compare stdout vs stderr\n",
    "import sys\n",
    "\n",
    "print(\"Hello this is going to stdout\", file = sys.stdout)\n",
    "print(\"Hello this is going to stderr\", file = sys.stderr)"
   ]
  },
  {
   "cell_type": "markdown",
   "metadata": {},
   "source": [
    "In Jupyter, `stderr` has a red background and `stdout` has a no background color. \n",
    "\n",
    "**Note**: The **traceback** messages shown when an error occurs are going to `stderr`. In Jupyter, they are formatted differently than other output to `stderr`. \n",
    "\n",
    "Back to the observation that reverse_complement can give cryptic error messages. Let's add a `try` statement and place the `for` loop in it. We can then use `except` with our expected `KeyError` to print a different message and `raise` to both **fast fail** and return the full **traceback**. "
   ]
  },
  {
   "cell_type": "code",
   "execution_count": null,
   "metadata": {},
   "outputs": [],
   "source": [
    "# Edit the function below!\n",
    "def reverse_complement(dna_sequence):\n",
    "    \"\"\"Reverses the complement of a dna sequence\"\"\"\n",
    "    complements = {\"T\":\"A\", \"A\":\"T\", \"C\":\"G\", \"G\":\"C\"}\n",
    "    reverse = dna_sequence[::-1]\n",
    "    result = \"\"\n",
    "    # Add try - except - raise statements\n",
    "    for letter in reverse:\n",
    "        result = result + complements[letter]\n",
    "    return(result)\n",
    "\n",
    "help(reverse_complement)\n",
    "print(reverse_complement(\"CAAg\"))"
   ]
  },
  {
   "cell_type": "markdown",
   "metadata": {},
   "source": [
    "Alternatively we can check the input for the dictionary and produce an error ourselves. "
   ]
  },
  {
   "cell_type": "code",
   "execution_count": null,
   "metadata": {},
   "outputs": [],
   "source": [
    "def reverse_complement(dna_sequence):\n",
    "    \"\"\"Reverses the complement of a dna sequence\"\"\"\n",
    "    complements = {\"T\":\"A\", \"A\":\"T\", \"C\":\"G\", \"G\":\"C\"}\n",
    "    reverse = dna_sequence[::-1]\n",
    "    result = \"\"\n",
    "    for letter in reverse:\n",
    "        # Check that letter is valid, if not raise an Error.\n",
    "        result = result + complements[letter]\n",
    "    return(result)\n",
    "\n",
    "print(reverse_complement(\"CAAg\"))"
   ]
  },
  {
   "cell_type": "markdown",
   "metadata": {},
   "source": [
    "Another problem is when programs produce incorrect results instead of producing an error. Suppose we have a function that prints all kmers of a given k from a sequence:"
   ]
  },
  {
   "cell_type": "code",
   "execution_count": null,
   "metadata": {},
   "outputs": [],
   "source": [
    "def kmers_from_sequence(dna_sequence, k):\n",
    "    \"\"\"Prints all kmers from a sequence\n",
    "    \"\"\"\n",
    "    # Formula for number of kmers\n",
    "    positions = len(dna_sequence) - k + 1\n",
    "    for i in range(positions):\n",
    "        kmer = dna_sequence[i:i + k]\n",
    "        print(kmer)\n",
    "        \n",
    "help(kmers_from_sequence) \n",
    "kmers_from_sequence(\"CACGTGACTAG\", 3)\n",
    "print(\"After the function\")"
   ]
  },
  {
   "cell_type": "code",
   "execution_count": null,
   "metadata": {},
   "outputs": [],
   "source": [
    "kmers_from_sequence(\"CACGTGACTAG\", -3)\n",
    "print(\"After the function\")"
   ]
  },
  {
   "cell_type": "markdown",
   "metadata": {},
   "source": [
    "We can sanitize the inputs to solve this. The value, k, should be a number less than the length of the sequence but more than 0."
   ]
  },
  {
   "cell_type": "markdown",
   "metadata": {},
   "source": [
    "## Exercise: Sanitize Input\n",
    "\n",
    "Refactor the following function to check that the value of `k` is:\n",
    "- A positive number\n",
    "- Not longer than the length of `dna_sequence`\n",
    "\n",
    "If there is a problem, `raise` a `ValueError` with an appropriate message. "
   ]
  },
  {
   "cell_type": "code",
   "execution_count": null,
   "metadata": {},
   "outputs": [],
   "source": [
    "# Example:\n",
    "def kmers_from_sequence(dna_sequence, k):\n",
    "    \"\"\"Prints all kmers from a sequence\n",
    "    \"\"\"\n",
    "    # Write code to check input here!\n",
    "    \n",
    "    positions = len(dna_sequence) - k + 1\n",
    "    for i in range(positions):\n",
    "        kmer = dna_sequence[i:i + k]\n",
    "        print(kmer)\n",
    "\n",
    "kmers_from_sequence(\"CAATCGACGTA\", 11) # Should return an error"
   ]
  },
  {
   "cell_type": "markdown",
   "metadata": {},
   "source": [
    "## Syntactical shortcut - Separate code with line breaks\n",
    "\n",
    "If you have lines that are long and hard to read, putting in line breaks can help. In Python, you can have line breaks inside parentheses. Let's demonstrate this on a piece of code we've written yesterday:"
   ]
  },
  {
   "cell_type": "code",
   "execution_count": null,
   "metadata": {},
   "outputs": [],
   "source": [
    "# import data from yesterday\n",
    "import pandas as pd\n",
    "gapminder = pd.read_table(\"gapminderDataFiveYear_superDirty.txt\", sep = \"\\t\")\n",
    "gapminder['region'] = gapminder['region'].astype(str)\n",
    "\n",
    "gapminder_copy = gapminder\n",
    "\n",
    "# Method 1 for formatting the 'region' column:\n",
    "gapminder_copy['region'] = gapminder_copy['region'].str.lstrip() # Strip white space on left\n",
    "gapminder_copy['region'] = gapminder_copy['region'].str.rstrip() # Strip white space on right\n",
    "gapminder_copy['region'] = gapminder_copy['region'].str.lower() # Convert to lowercase\n",
    "\n",
    "# Method 2 for formatting the 'region' column:\n",
    "gapminder_copy['region'] = gapminder['region'].str.lstrip().str.rstrip().str.lower() # Strip white space on left and right, and convert to lowercase\n",
    "                            \n",
    "print(gapminder_copy['region'])"
   ]
  },
  {
   "cell_type": "markdown",
   "metadata": {},
   "source": [
    "There are three different transformations happening above: removing whitespace on the left, removing whitespace on the right, and converting the text to lowercase. We can make this one line more intuitive by breaking it up into three:"
   ]
  },
  {
   "cell_type": "code",
   "execution_count": 2,
   "metadata": {},
   "outputs": [
    {
     "ename": "NameError",
     "evalue": "name 'gapminder_copy' is not defined",
     "output_type": "error",
     "traceback": [
      "\u001b[0;31m---------------------------------------------------------------------------\u001b[0m",
      "\u001b[0;31mNameError\u001b[0m                                 Traceback (most recent call last)",
      "Input \u001b[0;32mIn [2]\u001b[0m, in \u001b[0;36m<cell line: 4>\u001b[0;34m()\u001b[0m\n\u001b[1;32m      1\u001b[0m \u001b[38;5;66;03m# New method of chaining functions\u001b[39;00m\n\u001b[1;32m      3\u001b[0m gapminder_copy[\u001b[38;5;124m'\u001b[39m\u001b[38;5;124mregion\u001b[39m\u001b[38;5;124m'\u001b[39m] \u001b[38;5;241m=\u001b[39m (\n\u001b[0;32m----> 4\u001b[0m     \u001b[43mgapminder_copy\u001b[49m[\u001b[38;5;124m'\u001b[39m\u001b[38;5;124mregion\u001b[39m\u001b[38;5;124m'\u001b[39m]\n\u001b[1;32m      5\u001b[0m     \u001b[38;5;241m.\u001b[39mstr\u001b[38;5;241m.\u001b[39mlstrip()\n\u001b[1;32m      6\u001b[0m     \u001b[38;5;241m.\u001b[39mstr\u001b[38;5;241m.\u001b[39mrstrip()\n\u001b[1;32m      7\u001b[0m     \u001b[38;5;241m.\u001b[39mstr\u001b[38;5;241m.\u001b[39mlower()\n\u001b[1;32m      8\u001b[0m )\n\u001b[1;32m     10\u001b[0m \u001b[38;5;28mprint\u001b[39m(gapminder_copy[\u001b[38;5;124m'\u001b[39m\u001b[38;5;124mregion\u001b[39m\u001b[38;5;124m'\u001b[39m])\n",
      "\u001b[0;31mNameError\u001b[0m: name 'gapminder_copy' is not defined"
     ]
    }
   ],
   "source": [
    "# New method of chaining functions\n",
    "\n",
    "gapminder_copy['region'] = (\n",
    "    gapminder_copy['region']\n",
    "    .str.lstrip()\n",
    "    .str.rstrip()\n",
    "    .str.lower()\n",
    ")\n",
    "\n",
    "print(gapminder_copy['region'])"
   ]
  },
  {
   "cell_type": "markdown",
   "metadata": {},
   "source": [
    "We get the same output as above! This code is functionally the same as methods 1 and 2. We benefit from explicitly delineating each step like in method 1, and we also get the nicer syntax of applying all cleaning steps at the same time with method 2."
   ]
  },
  {
   "cell_type": "markdown",
   "metadata": {},
   "source": [
    "## Outlining your code\n",
    "\n",
    "Thinking about what you want your future code to do for you *before* coding anything reduces the time you spend physically coding. It forces you to think about the big pieces that go into solving your problem and how they'll fit together, revealing potential problems much earlier. Let's take an example from day 1 to illustrate:"
   ]
  },
  {
   "cell_type": "code",
   "execution_count": null,
   "metadata": {},
   "outputs": [],
   "source": [
    "percent = 20\n",
    "if percent < 38:\n",
    "    print('Low')\n",
    "elif percent < 47:\n",
    "    print('Normal')\n",
    "else:\n",
    "    print('High')"
   ]
  },
  {
   "cell_type": "markdown",
   "metadata": {},
   "source": [
    "To make this code more relevant to biology, let's introduce a real biological variable: *hematocrit*. Hematocrit is the volume percentage of red blood cells in blood. The normal values for humans are:\n",
    "* Males: 41% - 50%\n",
    "* Females: 36% - 44%\n",
    "* Average: 39% - 47%  -  these numbers used in the code above\n",
    "\n",
    "Now let's think about our code:\n",
    "1. We first check if the percent is less than 38: if so, then label as \"Low\"\n",
    "2. We then check if the percent is less than 47: if so, then label as \"Normal\"\n",
    "3. Otherwise, label as \"High\"\n",
    "\n",
    "This code seems intuitive from a first glance, but there's a conceptual oversight: the second case here isn't actually correct. Values less than 47% are normal *only if* the value isn't already less than 38%. The logic presented in this code works by virtue of checking the 38% case before the 47% case. Suppose we unintentionally coded in case 2 before case 1. Now we first check for values less than 47, and any values that fulfill that condition are \"Normal\", even if they're *also* less than 38. This is an easy accident that can lead to erroneous results.\n",
    "\n",
    "Let's think a bit more about the biological meaning of HCT percentage: it's more accurate to explicitly state the values that fall under each category:\n",
    "* Values between 0% - 38% are \"Low\"\n",
    "* Values between 39% - 47% are \"Normal\"\n",
    "* Values between 48% - 100% are \"High\"\n",
    "\n",
    "To follow this biological meaning, we would rewrite our code as follows:\n",
    "1. Check if the percent is between 0 and 38: if so, then label as \"Low\"\n",
    "2. Then, check if the percent is between 39 and 47: if so, then label as \"Normal\"\n",
    "3. Then, check if the percent is between 48 and 100: if so, then label as \"High\"\n",
    "4. **(new condition!)** If it's any other integer, raise an error\n",
    "\n",
    "This is better! We've done a few defensive programming concepts here:\n",
    "* Written up **pseudo-code**: this is not actual code, but an outline of how you want your code to be structured\n",
    "* Sanitized our input and guarded against a potential error\n",
    "* More explicitly stated the biological meaning of our code\n",
    "* Defended against the concept of a \"wrong order\" for our if/else statements - now it doesn't matter how the three conditions are ordered\n",
    "\n",
    "So now this code would look like:"
   ]
  },
  {
   "cell_type": "code",
   "execution_count": 4,
   "metadata": {},
   "outputs": [
    {
     "name": "stdout",
     "output_type": "stream",
     "text": [
      "Low\n"
     ]
    }
   ],
   "source": [
    "# New code goes here\n",
    "percent = 20 \n",
    "if 0<= percent <= 38:\n",
    "    print('Low')\n",
    "elif 39<= percent <= 47:\n",
    "    print('Normal')\n",
    "elif 48 <= percent <= 100:\n",
    "    print('High')\n",
    "else:\n",
    "    raise ValueError(\"Input is not a positive integer\")"
   ]
  },
  {
   "cell_type": "markdown",
   "metadata": {},
   "source": [
    "# Working with files\n",
    "\n",
    "When working with real-world data, it will typically be in a file, and **not** in your code. Fortunately, Python has functions to read files. These work with simple text files, and if you need to handle images or other binary formats, there are libraries that can help with that.\n",
    "\n",
    "Sequence data is typically in stored text files, like fasta. So let's walk through reading one of those."
   ]
  },
  {
   "cell_type": "markdown",
   "metadata": {},
   "source": [
    "## Open and close\n",
    "\n",
    "When you use a word processor or spreadsheet, you open files, work with them, and then close them when you're done. In Python, you do the same thing."
   ]
  },
  {
   "cell_type": "code",
   "execution_count": 5,
   "metadata": {},
   "outputs": [
    {
     "ename": "FileNotFoundError",
     "evalue": "[Errno 2] No such file or directory: 'ae.fa'",
     "output_type": "error",
     "traceback": [
      "\u001b[0;31m---------------------------------------------------------------------------\u001b[0m",
      "\u001b[0;31mFileNotFoundError\u001b[0m                         Traceback (most recent call last)",
      "Input \u001b[0;32mIn [5]\u001b[0m, in \u001b[0;36m<cell line: 1>\u001b[0;34m()\u001b[0m\n\u001b[0;32m----> 1\u001b[0m f \u001b[38;5;241m=\u001b[39m \u001b[38;5;28;43mopen\u001b[39;49m\u001b[43m(\u001b[49m\u001b[38;5;124;43m'\u001b[39;49m\u001b[38;5;124;43mae.fa\u001b[39;49m\u001b[38;5;124;43m'\u001b[39;49m\u001b[43m)\u001b[49m\n\u001b[1;32m      2\u001b[0m \u001b[38;5;28;01mfor\u001b[39;00m line \u001b[38;5;129;01min\u001b[39;00m f:\n\u001b[1;32m      3\u001b[0m     \u001b[38;5;28mprint\u001b[39m(line)\n",
      "\u001b[0;31mFileNotFoundError\u001b[0m: [Errno 2] No such file or directory: 'ae.fa'"
     ]
    }
   ],
   "source": [
    "f = open('ae.fa')\n",
    "for line in f:\n",
    "    print(line)\n",
    "f.close()"
   ]
  },
  {
   "cell_type": "markdown",
   "metadata": {},
   "source": [
    "Let's go through the steps we just did.\n",
    "1. We used the `open()` *function* on a string that represents a path to a file.\n",
    "    * The result of that function was saved to the variable `f`. This value is called a *file object*.\n",
    "2. We wrote a for loop. When you write a for loop for a file object, each loop variable represents a line in the file.\n",
    "3. We printed the loop variable for each loop.\n",
    "4. We used the *method* `.close()` to close the file."
   ]
  },
  {
   "cell_type": "markdown",
   "metadata": {},
   "source": [
    "## Reading lines\n",
    "\n",
    "When we work with text files, we can read them line by line in a loop. Each line of text from the file is set into our loop variable, and we print it out from the loop.\n",
    "\n",
    "You'll probably notice that we have a blank line in between each line from the file. Text files and programs indicate that there is a new line using a special newline character, `\\n`. In our previous example, each line in the file includes the `\\n` newline character at the end.\n",
    "\n",
    "Let's look into this by adding each line to a single string, all_lines, and compare printing the string vs the raw data."
   ]
  },
  {
   "cell_type": "code",
   "execution_count": null,
   "metadata": {},
   "outputs": [],
   "source": [
    "This is line number 1 \n",
    "This is line number 2 \n",
    "\n",
    "This is line number 4\n"
   ]
  },
  {
   "cell_type": "code",
   "execution_count": 15,
   "metadata": {},
   "outputs": [
    {
     "name": "stdout",
     "output_type": "stream",
     "text": [
      ">lcl|AE014075.1_gene_2 [locus_tag=c0002] [location=534..911]\n",
      "GTGTTCTACAGAGAGAAGCGTAGAGCAATAGGCTGTATTTTGAGAAAGCTGTGTGAGTGGAAAAGTGTAC\n",
      "GGATTCTGGAAGCTGAATGCTGTGCAGATCATATCCATATGCTTGTGGAGATCCCGCCCAAAATGAGCGT\n",
      "ATCAGGCTTTATGGGATATCTGAAAGGGAAAAGCAGTCTGATGCCTTACGAGCAGTTTGGTGATTTGAAA\n",
      "TTCAAATACAGGAACAGGGAGTTCTGGTGCAGAGGGTATTACGTCGATACGGTGGGTAAGAACACGGCGA\n",
      "\n",
      "\n"
     ]
    },
    {
     "data": {
      "text/plain": [
       "'>lcl|AE014075.1_gene_2 [locus_tag=c0002] [location=534..911]\\nGTGTTCTACAGAGAGAAGCGTAGAGCAATAGGCTGTATTTTGAGAAAGCTGTGTGAGTGGAAAAGTGTAC\\nGGATTCTGGAAGCTGAATGCTGTGCAGATCATATCCATATGCTTGTGGAGATCCCGCCCAAAATGAGCGT\\nATCAGGCTTTATGGGATATCTGAAAGGGAAAAGCAGTCTGATGCCTTACGAGCAGTTTGGTGATTTGAAA\\nTTCAAATACAGGAACAGGGAGTTCTGGTGCAGAGGGTATTACGTCGATACGGTGGGTAAGAACACGGCGA\\n\\n'"
      ]
     },
     "execution_count": 15,
     "metadata": {},
     "output_type": "execute_result"
    }
   ],
   "source": [
    "f = open('ae.fa')\n",
    "all_lines = ''\n",
    "for line in f:\n",
    "    all_lines = all_lines + line\n",
    "f.close()\n",
    "print(all_lines) # First output is the print result\n",
    "all_lines # Second is what the string data looks like"
   ]
  },
  {
   "cell_type": "markdown",
   "metadata": {},
   "source": [
    "If we know we have the whole line, we can strip off the newline character with the `.strip()` method."
   ]
  },
  {
   "cell_type": "code",
   "execution_count": 6,
   "metadata": {},
   "outputs": [
    {
     "data": {
      "text/plain": [
       "'There is a newline at the end\\n'"
      ]
     },
     "execution_count": 6,
     "metadata": {},
     "output_type": "execute_result"
    }
   ],
   "source": [
    "string_with_newline = \"There is a newline at the end\\n\"\n",
    "string_with_newline"
   ]
  },
  {
   "cell_type": "code",
   "execution_count": 7,
   "metadata": {},
   "outputs": [
    {
     "data": {
      "text/plain": [
       "'There is a newline at the end'"
      ]
     },
     "execution_count": 7,
     "metadata": {},
     "output_type": "execute_result"
    }
   ],
   "source": [
    "string_with_newline.strip()"
   ]
  },
  {
   "cell_type": "markdown",
   "metadata": {},
   "source": [
    "Let's try this with our original code to print each line in a file."
   ]
  },
  {
   "cell_type": "code",
   "execution_count": 16,
   "metadata": {},
   "outputs": [
    {
     "name": "stdout",
     "output_type": "stream",
     "text": [
      ">lcl|AE014075.1_gene_2 [locus_tag=c0002] [location=534..911]\n",
      "GTGTTCTACAGAGAGAAGCGTAGAGCAATAGGCTGTATTTTGAGAAAGCTGTGTGAGTGGAAAAGTGTAC\n",
      "GGATTCTGGAAGCTGAATGCTGTGCAGATCATATCCATATGCTTGTGGAGATCCCGCCCAAAATGAGCGT\n",
      "ATCAGGCTTTATGGGATATCTGAAAGGGAAAAGCAGTCTGATGCCTTACGAGCAGTTTGGTGATTTGAAA\n",
      "TTCAAATACAGGAACAGGGAGTTCTGGTGCAGAGGGTATTACGTCGATACGGTGGGTAAGAACACGGCGA\n",
      "\n"
     ]
    }
   ],
   "source": [
    "f = open('ae.fa')\n",
    "for line in f:\n",
    "    line = line.strip()\n",
    "    print(line)\n",
    "f.close()"
   ]
  },
  {
   "cell_type": "markdown",
   "metadata": {},
   "source": [
    "## Reading a fasta file\n",
    "\n",
    "Write a function called `read_fasta(filename)` that takes in the input filename and returns a single string for all of the DNA sequences in the file."
   ]
  },
  {
   "cell_type": "code",
   "execution_count": 17,
   "metadata": {},
   "outputs": [
    {
     "data": {
      "text/plain": [
       "'def read_fasta(filename):\\n    for line in f:\\n        all_lines = all_lines + line\\n    f.close()\\n    print(all_lines)\\n    string_with_newline = \"There is a newline at the end\\n\"\\n    string_with_newline\\n    string_with_newline.strip()\\n'"
      ]
     },
     "execution_count": 17,
     "metadata": {},
     "output_type": "execute_result"
    }
   ],
   "source": [
    "#Your code here!\n",
    "   \n",
    "def read_fasta(input_file):\n",
    "    \"\"\"Takes the input file and converts all DNA information into a single string\"\"\"\n",
    "    f = open(input_file)\n",
    "    all_lines = ''\n",
    "    for line in f:\n",
    "        if line.startswith(\">\"):\n",
    "            continue\n",
    "        all_lines = all_lines + line.strip()\n",
    "    f.close()\n",
    "    return all_lines\n",
    "\n",
    "def read_fasta(file_name):\n",
    "    '''Takes in a fasta file and returns single string for all DNA sequences.'''\n",
    "    DNA_strand=''\n",
    "    if \".fa\" in file_name:\n",
    "        loop_file=open(file_name)\n",
    "        for line in loop_file:\n",
    "            if \">gi\" in line:\n",
    "                pass\n",
    "            else:\n",
    "                line=line.strip()\n",
    "                DNA_strand+=line\n",
    "        loop_file.close()\n",
    "        return DNA_strand\n",
    "    else:\n",
    "        raise ValueError(\"File not fasta file type.\")\n",
    "'''def read_fasta(filename):\n",
    "    for line in f:\n",
    "        all_lines = all_lines + line\n",
    "    f.close()\n",
    "    print(all_lines)\n",
    "    string_with_newline = \"There is a newline at the end\\n\"\n",
    "    string_with_newline\n",
    "    string_with_newline.strip()\n",
    "'''\n"
   ]
  },
  {
   "cell_type": "code",
   "execution_count": 18,
   "metadata": {},
   "outputs": [
    {
     "name": "stdout",
     "output_type": "stream",
     "text": [
      ">lcl|AE014075.1_gene_2 [locus_tag=c0002] [location=534..911]GTGTTCTACAGAGAGAAGCGTAGAGCAATAGGCTGTATTTTGAGAAAGCTGTGTGAGTGGAAAAGTGTACGGATTCTGGAAGCTGAATGCTGTGCAGATCATATCCATATGCTTGTGGAGATCCCGCCCAAAATGAGCGTATCAGGCTTTATGGGATATCTGAAAGGGAAAAGCAGTCTGATGCCTTACGAGCAGTTTGGTGATTTGAAATTCAAATACAGGAACAGGGAGTTCTGGTGCAGAGGGTATTACGTCGATACGGTGGGTAAGAACACGGCGA\n"
     ]
    }
   ],
   "source": [
    "print(read_fasta('ae.fa'))"
   ]
  },
  {
   "cell_type": "code",
   "execution_count": 20,
   "metadata": {},
   "outputs": [
    {
     "ename": "NameError",
     "evalue": "name 'reverse_complement' is not defined",
     "output_type": "error",
     "traceback": [
      "\u001b[0;31m---------------------------------------------------------------------------\u001b[0m",
      "\u001b[0;31mNameError\u001b[0m                                 Traceback (most recent call last)",
      "Input \u001b[0;32mIn [20]\u001b[0m, in \u001b[0;36m<cell line: 1>\u001b[0;34m()\u001b[0m\n\u001b[0;32m----> 1\u001b[0m \u001b[38;5;28mprint\u001b[39m(\u001b[43mreverse_complement\u001b[49m(read_fasta(\u001b[38;5;124m'\u001b[39m\u001b[38;5;124mae.fa\u001b[39m\u001b[38;5;124m'\u001b[39m)))\n",
      "\u001b[0;31mNameError\u001b[0m: name 'reverse_complement' is not defined"
     ]
    }
   ],
   "source": [
    "print(reverse_complement(read_fasta('ae.fa')))"
   ]
  },
  {
   "cell_type": "markdown",
   "metadata": {},
   "source": [
    "## Scripts\n",
    "\n",
    "We've done a good job of organizing our code into functions here, but we've only been running them from this notebook. So next, we're going to take our code and put it in a script - starting with the `read_fasta` function.\n",
    "\n",
    "Let's start with a script that reads the ae.fa file specifically and prints it.\n",
    "\n",
    "Notice that the first line contains a `%%` operator followed by the command writefile and a file name. This operator is specific to jupyter notebooks, called a \"Cell Magic Command\", and copies the code written in a cell into a file."
   ]
  },
  {
   "cell_type": "code",
   "execution_count": 21,
   "metadata": {},
   "outputs": [
    {
     "ename": "NameError",
     "evalue": "name 'Read_fasta' is not defined",
     "output_type": "error",
     "traceback": [
      "\u001b[0;31m---------------------------------------------------------------------------\u001b[0m",
      "\u001b[0;31mNameError\u001b[0m                                 Traceback (most recent call last)",
      "Input \u001b[0;32mIn [21]\u001b[0m, in \u001b[0;36m<cell line: 14>\u001b[0;34m()\u001b[0m\n\u001b[1;32m     11\u001b[0m         f\u001b[38;5;241m.\u001b[39mclose()\n\u001b[1;32m     12\u001b[0m         \u001b[38;5;28;01mreturn\u001b[39;00m sequence\n\u001b[0;32m---> 14\u001b[0m \u001b[38;5;28mprint\u001b[39m (\u001b[43mRead_fasta\u001b[49m(\u001b[38;5;124m'\u001b[39m\u001b[38;5;124mae.fa\u001b[39m\u001b[38;5;124m'\u001b[39m))\n",
      "\u001b[0;31mNameError\u001b[0m: name 'Read_fasta' is not defined"
     ]
    }
   ],
   "source": [
    "#%%writefile read_fasta_v1.py\n",
    "def read_fasta(filename):\n",
    "    \"\"\"Reads a fasta file and returns all sequences concatenated\"\"\"\n",
    "    sequence = ''\n",
    "    f = open(filename)\n",
    "    for line in f:\n",
    "        line = line.strip()\n",
    "        if '>' not in line:\n",
    "            #Append to the last sequence\n",
    "            sequence = sequence + line\n",
    "        f.close()\n",
    "        return sequence\n",
    "\n",
    "print (Read_fasta('ae.fa'))"
   ]
  },
  {
   "cell_type": "markdown",
   "metadata": {},
   "source": [
    "Our script reads our `ae.fa` file every time we run it, but we know most programs don't work that way. The programs we used in bash expected a data file as an argument, and that's a good convention for programs we write too.\n",
    "\n",
    "In Python, our program can get these arguments, but we have to load a module called `sys` from the standard library, a collection of modules included in python but not available by default. The documentation for these is part of the documentation for python: https://docs.python.org/3/library/sys.html\n",
    "\n",
    "Libraries are incredibly useful - there are libraries for working with numeric and scientific data, generating plots, fetching data from the web, working with image and document files, databases, etc. And of course, there's a library for getting things like your script's command-line arguments.\n",
    "\n",
    "So, let's change our `read_fasta.py` program slightly."
   ]
  },
  {
   "cell_type": "code",
   "execution_count": 22,
   "metadata": {},
   "outputs": [
    {
     "name": "stdout",
     "output_type": "stream",
     "text": [
      "Overwriting read_fasta_v2.py\n"
     ]
    }
   ],
   "source": [
    "%%writefile read_fasta_v2.py\n",
    "import sys\n",
    "\n",
    "def read_fasta(filename):\n",
    "    \"\"\"Reads a fasta file and returns all sequences concatenated\"\"\"\n",
    "    sequence = ''\n",
    "    f = open(filename)\n",
    "    for line in f:\n",
    "        line = line.strip()\n",
    "        if '>' not in line:\n",
    "            #Append to the last sequence\n",
    "            sequence = sequence + line\n",
    "        f.close()\n",
    "        return sequence\n",
    "    \n",
    "if len(sys.argv) < 2:\n",
    "    print('Usage', sys.argv[0], '<sequence.fa>')\n",
    "    sys.exit(1)\n",
    "\n",
    "print (Read_fasta(sys.argv[1]))"
   ]
  },
  {
   "cell_type": "markdown",
   "metadata": {},
   "source": [
    "But what happens if we don't have an input file name? According to the documentation, `sys.argv` returns a list where the first item `sys.argv[0]` is the name of the script by default, and each additional item in the list are the command line arguments. If no argument was passed, `sys.argv` should be a list of just the script name."
   ]
  },
  {
   "cell_type": "code",
   "execution_count": 27,
   "metadata": {},
   "outputs": [
    {
     "name": "stdout",
     "output_type": "stream",
     "text": [
      "Overwriting read_fasta_v3.py\n"
     ]
    }
   ],
   "source": [
    "%%writefile read_fasta_v3.py\n",
    "import sys\n",
    "\n",
    "def read_fasta(filename):\n",
    "    \"\"\"Reads a fasta file and returns all sequences concatenated\"\"\"\n",
    "    sequence = ''\n",
    "    f = open(filename)\n",
    "    for line in f:\n",
    "        line = line.strip()\n",
    "        if '>' not in line:\n",
    "            #Append to the last sequence\n",
    "            sequence = sequence + line\n",
    "        f.close()\n",
    "        return sequence\n",
    "    \n",
    "if __name__ == \"__main__\":\n",
    "    if len(sys.argv) < 2:\n",
    "        print('Usage', sys.argv[0], '<sequence.fa>')\n",
    "        sys.exit(1)\n",
    "\n",
    "    print (read_fasta(sys.argv[1]))"
   ]
  },
  {
   "cell_type": "markdown",
   "metadata": {},
   "source": [
    "## Making scripts you can import\n",
    "\n",
    "So far, we have used modules to help us work on our analyses such as:\n",
    "- Standard Library\n",
    "    - sys\n",
    "- Third Party\n",
    "    - pandas\n",
    "    - numpy\n",
    "    - matplotlib\n",
    "\n",
    "These are imported using the `import` keyword and we can use functions from them. We also write functions for use in our own code. Having these available to import into other scripts gives the benefit of:\n",
    "1. Letting us reuse code over multiple analyses (DRY)\n",
    "2. Letting others use our code in their own scripts without copy/pasting (DRY)\n",
    "\n",
    "While it may seem like going out of one's way to write a module and a script for analysis, you can actually have one python file act as both a module and run it from the command line to perform a task.\n",
    "\n",
    "In your Jupyter notebook server (in your browser):\n",
    "* New -> Python3 Notebook\n",
    "    * name: **demo_for_imports**\n",
    "\n",
    "In **demo_for_imports.ipynb**:"
   ]
  },
  {
   "cell_type": "code",
   "execution_count": 26,
   "metadata": {},
   "outputs": [],
   "source": [
    "import read_fasta_v3"
   ]
  },
  {
   "cell_type": "markdown",
   "metadata": {},
   "source": [
    "But, why does it print some output when we import into our jupyter notebook?\n",
    "\n",
    "This is because we have a print() statement at the bottom of cool_functions.py! This is not good practice. How do we separate the print statement from the useful functions in our .py document???\n",
    "\n",
    "Answer:\n",
    "Add this weird statement `if __name__ == \"__main__\":` before the data & print statement (after the function, still in our `automation_python_2022.ipynb` document):"
   ]
  },
  {
   "cell_type": "markdown",
   "metadata": {},
   "source": [
    "### Exercise: Extending your Python scripts to do more\n",
    "\n",
    "In your `demo_for_imports.ipynb` notebook, you've now imported `read_fasta_v3`, which returns a single DNA string from a fasta file. Building off of this module, how would you get a count of unique dinucleotides (\"AA, AT, AC, AG, TA, etc.) for each fasta file? Writing pseudocode may help if you're not sure how to approach it."
   ]
  },
  {
   "cell_type": "code",
   "execution_count": null,
   "metadata": {},
   "outputs": [],
   "source": [
    "# Put your answer here!\n",
    "'''\n",
    "1. separate the sequence in dinucleotides\n",
    "2. add it to a count depending on what unique combination it is \n",
    "3. keep looping until the end \n",
    "4. return the counts at the end \n",
    "'''\n",
    "\n",
    "def dinucleotide_count(DNA_strand):\n",
    "    '''Takes in a DNA sequence and returns dictionary with number dinucleotides.'''\n",
    "    bases=[\"A\",\"T\",\"C\",\"G\"]\n",
    "    dinuc_dict={}\n",
    "    for b1 in bases:\n",
    "        for b2 in bases:\n",
    "            dinuc=b1+b2\n",
    "            dinuc_dict[dinuc]=0\n",
    "    for dn in dinuc_dict:\n",
    "        dinuc_dict[dn]=DNA_strand.count(dn)\n",
    "    return dinuc_dict\n",
    "    \n",
    "'''\n",
    "import read_fasta_v3 as rf\n",
    "def count_dinucleotides(in_fasta_str):\n",
    "    \"\"\"Inputs a string of DNA and outputs all unique dinucleotides\"\"\"\n",
    "    unique_dinucleotides = []\n",
    "    for nucleotide_position in range(len(in_fasta_str)):\n",
    "        try: \n",
    "            dinucleotide_to_check = (in_fasta_str[nucleotide_position]+in_fasta_str[nucleotide_position+1])\n",
    "        except IndexError:\n",
    "            print(\"Reached End of string\")\n",
    "        if dinucleotide_to_check not in unique_dinucleotides:\n",
    "            unique_dinucleotides.append(dinucleotide_to_check)\n",
    "    return len(unique_dinucleotides)\n",
    "\n",
    "count_dinucleotides(rf.read_fasta('ae.fa'))\n",
    "\n",
    " positions = len(dna_sequence) - k + 1\n",
    "    for i in range(positions):\n",
    "        kmer = dna_sequence[i:i + k]\n",
    "        print(kmer)\n",
    "'''\n"
   ]
  },
  {
   "cell_type": "markdown",
   "metadata": {},
   "source": [
    "## The next level of automation: combining Python and bash"
   ]
  },
  {
   "cell_type": "markdown",
   "metadata": {},
   "source": [
    "Suppose you're given a few *hundred* fasta files you need to concatenate. You could type them all into a list in your Jupyter notebook and run it, or you could have bash automate the Python script for you!\n",
    "\n",
    "First, a technical check: in your Git Bash or Terminal window, run `python --version`. Hopefully, you get some info about the version of python you're running.\n",
    "\n",
    "Recall our bash lesson on the first day:"
   ]
  },
  {
   "cell_type": "raw",
   "metadata": {},
   "source": [
    "for filename in *.fa*\n",
    "do\n",
    "    echo $filename\n",
    "done"
   ]
  },
  {
   "cell_type": "markdown",
   "metadata": {},
   "source": [
    "Using the `python` command in the terminal, we can also run Python files without needing to open up Jupyter notebook! You use this `python` command just like any other bash command:"
   ]
  },
  {
   "cell_type": "raw",
   "metadata": {},
   "source": [
    "for filename in *.fa*\n",
    "do\n",
    "    python read_fasta_v3.py $filename\n",
    "done"
   ]
  },
  {
   "cell_type": "markdown",
   "metadata": {},
   "source": [
    "You should get a lot of letters outputted to your window. Better yet, let's redirect it to another file to save for later:"
   ]
  },
  {
   "cell_type": "raw",
   "metadata": {},
   "source": [
    "for filename in *.fa*\n",
    "do\n",
    "    python read_fasta_v3.py $filename >> output_fastas.txt\n",
    "done"
   ]
  },
  {
   "cell_type": "markdown",
   "metadata": {},
   "source": [
    "You may have seen the `>` bash symbol before, which means to redirect the output of a command into another file. Here, we use `>>`: it's is similar in that it also redirects output to a file, but this *concatenates* the result to whatever is in the file, instead of overwriting the whole file with the new results.\n",
    "\n",
    "Now we can open up and check `output_fastas.txt`. There's one line for every file processed.\n",
    "\n",
    "Okay, time for one more level of automation: it's great that we can get bash to loop over our Python file and our input files, but what if we don't want to type out the `for` loop in bash every single time we run an analysis? We can store that command in a `bash` script, similar to how we stored our Python code in a Python script.\n",
    "\n",
    "In either `nano` or `vim`, copy and paste the above code into a new file called `script.sh`. Remember that we can create a new file by directly typing `nano script.sh` or `vim.sh` on the command line.\n",
    "\n",
    "Once you've created your `script.sh` file, run it on the command line with:"
   ]
  },
  {
   "cell_type": "raw",
   "metadata": {},
   "source": [
    "./script.sh"
   ]
  },
  {
   "cell_type": "markdown",
   "metadata": {},
   "source": [
    "It should work as intended (i.e. not output anything to the terminal), and you can open up your `output_fastas.txt` file to see the results.\n",
    "\n",
    "### Exercise - optimizing your script\n",
    "\n",
    "How would you modify this `script.sh` so that it empties the contents of `output_fastas.txt` before running your program? Hint: there are multiple bash commands you could potentially use."
   ]
  },
  {
   "cell_type": "raw",
   "metadata": {},
   "source": [
    "# Put your new script here!\n",
    "\n"
   ]
  },
  {
   "cell_type": "markdown",
   "metadata": {},
   "source": [
    "## We can go even further: walking away from your computer\n",
    "\n",
    "Congrats, you have a bash script that automates a Python file over hundreds of fasta files! What if you were dealing with gigabytes (or even terabytes) of data? You'd probably be waiting forever for your script to finish, but you probably don't want to sit around that long. What can you do?"
   ]
  },
  {
   "cell_type": "raw",
   "metadata": {},
   "source": [
    "nohup ./script.sh &"
   ]
  },
  {
   "cell_type": "markdown",
   "metadata": {},
   "source": [
    "* `nohup` - Stands for `no hangup` - even if you close your bash terminal, the program will continue to run in the background of your computer. Just make sure you don't shut down your computer before it finishes! On a compute cluster, this isn't really a problem since compute clusters generally stay online 24/7.\n",
    "* `&` - Run this program in the background of your terminal. This frees up your terminal so you can work on other things and run more commands. Note that this *does not* keep it running if the terminal is closed; you'll still need `nohup` for that."
   ]
  },
  {
   "cell_type": "code",
   "execution_count": null,
   "metadata": {},
   "outputs": [],
   "source": []
  }
 ],
 "metadata": {
  "@webio": {
   "lastCommId": null,
   "lastKernelId": null
  },
  "kernelspec": {
   "display_name": "Python 3 (ipykernel)",
   "language": "python",
   "name": "python3"
  },
  "language_info": {
   "codemirror_mode": {
    "name": "ipython",
    "version": 3
   },
   "file_extension": ".py",
   "mimetype": "text/x-python",
   "name": "python",
   "nbconvert_exporter": "python",
   "pygments_lexer": "ipython3",
   "version": "3.9.12"
  }
 },
 "nbformat": 4,
 "nbformat_minor": 4
}
